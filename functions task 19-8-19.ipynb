{
 "cells": [
  {
   "cell_type": "code",
   "execution_count": 1,
   "metadata": {},
   "outputs": [
    {
     "name": "stdout",
     "output_type": "stream",
     "text": [
      "dcba4321\n"
     ]
    }
   ],
   "source": [
    "#write a program to reverse a string\n",
    "def string_reverse(str1):\n",
    "\n",
    "    rstr1 = ''\n",
    "    index = len(str1)\n",
    "    while index > 0:\n",
    "        rstr1 += str1[ index - 1 ]\n",
    "        index = index - 1\n",
    "    return rstr1\n",
    "print(string_reverse('1234abcd'))\n",
    "    \n",
    "    "
   ]
  },
  {
   "cell_type": "code",
   "execution_count": 3,
   "metadata": {},
   "outputs": [
    {
     "name": "stdout",
     "output_type": "stream",
     "text": [
      "Original String :  The quick Brown Fox\n",
      "No. of Upper case characters :  3\n",
      "No. of Lower case Characters :  13\n"
     ]
    }
   ],
   "source": [
    "#write a function that accept a string and calculate the number of upper char and lower char\n",
    "def string_test(s):\n",
    "    d={\"UPPER_CASE\":0, \"LOWER_CASE\":0}\n",
    "    for c in s:\n",
    "        if c.isupper():\n",
    "           d[\"UPPER_CASE\"]+=1\n",
    "        elif c.islower():\n",
    "           d[\"LOWER_CASE\"]+=1\n",
    "        else:\n",
    "            pass\n",
    "        \n",
    "    print (\"Original String : \", s)\n",
    "    print (\"No. of Upper case characters : \", d[\"UPPER_CASE\"])\n",
    "    print (\"No. of Lower case Characters : \", d[\"LOWER_CASE\"])\n",
    "\n",
    "string_test('The quick Brown Fox')"
   ]
  },
  {
   "cell_type": "code",
   "execution_count": 2,
   "metadata": {},
   "outputs": [
    {
     "name": "stdout",
     "output_type": "stream",
     "text": [
      "enter the range5\n",
      "enter the values:1\n",
      "enter the values:2\n",
      "enter the values:3\n",
      "enter the values:4\n",
      "enter the values:5\n",
      "2 4 None\n"
     ]
    }
   ],
   "source": [
    "# writ a program to print the even numbers from given list \n",
    "def even(list):\n",
    "    for i in list:\n",
    "        if i%2 == 0 :\n",
    "            print(i,end=\" \")\n",
    "        \n",
    "\n",
    "list=[]\n",
    "n=int(input(\"enter the range\"))\n",
    "for i in range (1,n+1):\n",
    "    values=int(input(\"enter the values:\"))\n",
    "    list.append(values)\n",
    "    \n",
    "print(even(list)) \n",
    "\n",
    "   \n",
    "        "
   ]
  },
  {
   "cell_type": "code",
   "execution_count": 16,
   "metadata": {},
   "outputs": [
    {
     "name": "stdout",
     "output_type": "stream",
     "text": [
      "True\n"
     ]
    }
   ],
   "source": [
    "# wrie a program to find the passed string is palindrome or not\n",
    "def isPalindrome(string):\n",
    "    leftposition = 0\n",
    "    rightposition = len(string) - 1\n",
    "    \n",
    "    while rightposition >= leftposition:\n",
    "        if not string[leftposition] == string[rightposition]:\n",
    "            return False\n",
    "        leftposition += 1\n",
    "        rightposition -= 1\n",
    "    return True\n",
    "print(isPalindrome(\"pop\"))"
   ]
  },
  {
   "cell_type": "code",
   "execution_count": 2,
   "metadata": {},
   "outputs": [
    {
     "name": "stdout",
     "output_type": "stream",
     "text": [
      "9\n"
     ]
    }
   ],
   "source": [
    "# write a programe to access function inside the function\n",
    "def test(a):\n",
    "    def add(b):\n",
    "        nonlocal a\n",
    "        a+=1\n",
    "        return a+b\n",
    "    return add\n",
    "func=test(4)\n",
    "print(func(4))"
   ]
  },
  {
   "cell_type": "code",
   "execution_count": 4,
   "metadata": {},
   "outputs": [
    {
     "name": "stdout",
     "output_type": "stream",
     "text": [
      "3\n"
     ]
    }
   ],
   "source": [
    "# write a program to detect the number of variables in the functions\n",
    "def abc():\n",
    "    x = 1\n",
    "    y = 2\n",
    "    str1= \"pavan kalyan kolluri\"\n",
    "    print(\"Python Exercises\")\n",
    "\n",
    "print(abc.__code__.co_nlocals)\n"
   ]
  },
  {
   "cell_type": "code",
   "execution_count": null,
   "metadata": {},
   "outputs": [],
   "source": []
  }
 ],
 "metadata": {
  "kernelspec": {
   "display_name": "Python 3",
   "language": "python",
   "name": "python3"
  },
  "language_info": {
   "codemirror_mode": {
    "name": "ipython",
    "version": 3
   },
   "file_extension": ".py",
   "mimetype": "text/x-python",
   "name": "python",
   "nbconvert_exporter": "python",
   "pygments_lexer": "ipython3",
   "version": "3.7.3"
  }
 },
 "nbformat": 4,
 "nbformat_minor": 2
}
