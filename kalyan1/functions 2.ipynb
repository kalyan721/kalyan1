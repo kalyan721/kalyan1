{
 "cells": [
  {
   "cell_type": "code",
   "execution_count": 5,
   "metadata": {},
   "outputs": [
    {
     "name": "stdout",
     "output_type": "stream",
     "text": [
      "enter any number of factorial value:5\n",
      "factorial of 5 is 1\n",
      "factorial of 5 is 2\n",
      "factorial of 5 is 6\n",
      "factorial of 5 is 24\n",
      "factorial of 5 is 120\n"
     ]
    }
   ],
   "source": [
    "number= int (input(\"enter any number of factorial value:\"))\n",
    "fact=1\n",
    "for i in range (1,number+1):\n",
    "    fact= fact*i\n",
    "    print(\"factorial of\",number,\"is\",fact)\n"
   ]
  },
  {
   "cell_type": "code",
   "execution_count": 23,
   "metadata": {
    "scrolled": true
   },
   "outputs": [
    {
     "name": "stdout",
     "output_type": "stream",
     "text": [
      "number of odd numbers: 1\n",
      "number of odd numbers: 3\n",
      "number of odd numbers: 5\n",
      "number of odd numbers: 7\n",
      "number of odd numbers: 9\n",
      "number of odd numbers: 11\n"
     ]
    }
   ],
   "source": [
    "lowervalue= (0)\n",
    "uppervalue= (11)\n",
    "for x in range(lowervalue,uppervalue+ 1) :\n",
    "    if x % 2!= 0:\n",
    "       print(\"number of odd numbers:\",x)\n",
    "    "
   ]
  },
  {
   "cell_type": "code",
   "execution_count": 1,
   "metadata": {},
   "outputs": [
    {
     "name": "stdout",
     "output_type": "stream",
     "text": [
      "enter the value:0\n",
      "enter the value:11\n",
      "sum of first 5  integer is:  10\n"
     ]
    }
   ],
   "source": [
    "lv = int(input(\"enter the value:\"))\n",
    "uv = int(input(\"enter the value:\"))\n",
    "numbersum= 0\n",
    "count= 0\n",
    "for i in range(0,uv+1):\n",
    "    numbersum= numbersum+i\n",
    "    count= count+1\n",
    "    if count==5:\n",
    "        break\n",
    "print(\"sum of first\",count,\" integer is: \",numbersum)"
   ]
  },
  {
   "cell_type": "code",
   "execution_count": 2,
   "metadata": {},
   "outputs": [
    {
     "name": "stdout",
     "output_type": "stream",
     "text": [
      "enter any number:5\n",
      "multipication table of 5\n",
      "5 x 0 = 0\n",
      "5 x 1 = 5\n",
      "5 x 2 = 10\n",
      "5 x 3 = 15\n",
      "5 x 4 = 20\n",
      "5 x 5 = 25\n",
      "5 x 6 = 30\n",
      "5 x 7 = 35\n",
      "5 x 8 = 40\n",
      "5 x 9 = 45\n"
     ]
    }
   ],
   "source": [
    "number= int(input(\"enter any number:\"))\n",
    "print (\"multipication table of\", number )\n",
    "for i in range(0,10):\n",
    "    print(number,\"x\",i,\"=\",number*i)\n",
    "    "
   ]
  },
  {
   "cell_type": "code",
   "execution_count": 14,
   "metadata": {},
   "outputs": [
    {
     "name": "stdout",
     "output_type": "stream",
     "text": [
      "6\n"
     ]
    }
   ],
   "source": [
    "def sum(a,b):\n",
    "    c= a+b\n",
    "    print(c)\n",
    "sum(2,4)\n"
   ]
  },
  {
   "cell_type": "code",
   "execution_count": 12,
   "metadata": {},
   "outputs": [
    {
     "name": "stdout",
     "output_type": "stream",
     "text": [
      "hi good morning\n"
     ]
    }
   ],
   "source": [
    "def func(a,b=\"good morning\"):\n",
    " print(a,b)\n",
    "func(\"hi\")\n",
    "    "
   ]
  },
  {
   "cell_type": "code",
   "execution_count": 26,
   "metadata": {},
   "outputs": [
    {
     "name": "stdout",
     "output_type": "stream",
     "text": [
      "('dog', 'cat', 'parrot')\n",
      "('dog', 'cat', 'parrot')\n",
      "('dog', 'cat', 'parrot')\n"
     ]
    }
   ],
   "source": [
    "def func(*name):\n",
    "    for i in name:\n",
    "        print(name)\n",
    "func(\"dog\",\"cat\",\"parrot\")\n",
    "        "
   ]
  },
  {
   "cell_type": "code",
   "execution_count": 21,
   "metadata": {},
   "outputs": [
    {
     "name": "stdout",
     "output_type": "stream",
     "text": [
      "8\n",
      "8\n",
      "10\n"
     ]
    }
   ],
   "source": [
    "def fun(width,height):\n",
    "    return width*height\n",
    "print(fun(2,4))\n",
    "print(fun(width=2,height=4))\n",
    "print(fun(width=5,height=2))"
   ]
  },
  {
   "cell_type": "code",
   "execution_count": 42,
   "metadata": {},
   "outputs": [
    {
     "name": "stdout",
     "output_type": "stream",
     "text": [
      "20\n"
     ]
    }
   ],
   "source": [
    "def sum(*numbers):\n",
    "    total=0\n",
    "    for i in numbers:\n",
    "        total+=i\n",
    "    return total\n",
    "print(sum(8,2,3,0,7))"
   ]
  },
  {
   "cell_type": "code",
   "execution_count": null,
   "metadata": {},
   "outputs": [],
   "source": [
    "def summ(numberlist):\n",
    "    summ = 0\n",
    "    for i in range(number):\n",
    "        summ = summ+numberlist(i)\n",
    "    return summ\n",
    "numberlist =[]    \n",
    "r = int(input(\"enter the number of list of elements:\"))\n",
    "for i in range(0,r+1):\n",
    "    values = int(input(\"enter the number elements:\"))\n",
    "    numberlist.append(values)\n",
    "    \n",
    "    \n",
    "total = numberlist(list)\n",
    "print(\"sum of list of elements:\",total)\n",
    "summ(numberlist)"
   ]
  },
  {
   "cell_type": "code",
   "execution_count": null,
   "metadata": {},
   "outputs": [],
   "source": [
    "def reverse(a): \n",
    "    if len(a) == 0: \n",
    "        return a \n",
    "    else: \n",
    "        return reverse(a[1:]) + a[0] \n",
    "a = \"1234abc\"\n",
    "\n",
    "print (\"The original string  is : \",end=\"\") \n",
    "print (a)   \n",
    "print (\"The reversed string(using recursion) is : \",end=\"\") \n",
    "print (reverse(a)) "
   ]
  },
  {
   "cell_type": "code",
   "execution_count": 11,
   "metadata": {
    "scrolled": false
   },
   "outputs": [
    {
     "name": "stdout",
     "output_type": "stream",
     "text": [
      "Enter string:Hi Good Morning\n",
      "The number of lowercase characters is:\n",
      "10\n",
      "The number of uppercase characters is:\n",
      "3\n"
     ]
    }
   ],
   "source": [
    "string=input(\"Enter string:\")\n",
    "count1=0\n",
    "count2=0\n",
    "for i in string:\n",
    "      if(i.islower()):\n",
    "            count1=count1+1\n",
    "      elif(i.isupper()):\n",
    "            count2=count2+1\n",
    "print(\"The number of lowercase characters is:\")\n",
    "print(count1)\n",
    "print(\"The number of uppercase characters is:\")\n",
    "print(count2)"
   ]
  },
  {
   "cell_type": "code",
   "execution_count": 17,
   "metadata": {
    "scrolled": true
   },
   "outputs": [
    {
     "name": "stdout",
     "output_type": "stream",
     "text": [
      "4\n",
      "1\n"
     ]
    }
   ],
   "source": [
    "def nonprime(n):\n",
    "    count= 0\n",
    "    for i in range(2,n):\n",
    "        if(n%i ==0):\n",
    "            a= prime(i)\n",
    "            b= zero(i)\n",
    "        if a== False and b== False:\n",
    "            count= count+1\n",
    "    return count\n",
    "def prime(n):\n",
    "    for i in range(2,n):\n",
    "        if(n%i== 0):\n",
    "            return False\n",
    "        else:\n",
    "            return True\n",
    "    \n",
    "def zero(n):\n",
    "    t= str(n)\n",
    "    if \"0\" in t:\n",
    "        return True\n",
    "    else:\n",
    "        return False\n",
    "print(nonprime(30))\n",
    "print(nonprime(100))"
   ]
  },
  {
   "cell_type": "code",
   "execution_count": 1,
   "metadata": {},
   "outputs": [
    {
     "name": "stdout",
     "output_type": "stream",
     "text": [
      "enter a value:10\n",
      "not a prime\n"
     ]
    }
   ],
   "source": [
    "def prime(n):\n",
    "    if(n==1):\n",
    "        return False\n",
    "    elif(n==2):\n",
    "        return True\n",
    "    else:\n",
    "        for i in range(2,n):\n",
    "            if(i%2==0):\n",
    "                return \"not a prime\"\n",
    "            return \"is prime \"\n",
    "n= int(input(\"enter a value:\"))\n",
    "print(prime(n))"
   ]
  },
  {
   "cell_type": "code",
   "execution_count": 2,
   "metadata": {},
   "outputs": [
    {
     "ename": "SyntaxError",
     "evalue": "invalid syntax (<ipython-input-2-b571ef985ef5>, line 2)",
     "output_type": "error",
     "traceback": [
      "\u001b[1;36m  File \u001b[1;32m\"<ipython-input-2-b571ef985ef5>\"\u001b[1;36m, line \u001b[1;32m2\u001b[0m\n\u001b[1;33m    dict{}\u001b[0m\n\u001b[1;37m        ^\u001b[0m\n\u001b[1;31mSyntaxError\u001b[0m\u001b[1;31m:\u001b[0m invalid syntax\n"
     ]
    }
   ],
   "source": [
    "n= int(input(\"enter no.of students:\"))\n",
    "dict{}\n",
    "for i in range(n):\n",
    "    name= input(\"enter the name:\")\n",
    "    rollnum=int(input(\"enter the value:\"))\n",
    "    course=input(\"enter the name:\")\n",
    "    s= \"s%d\"%(i+1)\n",
    "    list=[name,rollnum,course]\n",
    "    dict1[s]= list1\n",
    "for i in dict1\n",
    "print(i)"
   ]
  },
  {
   "cell_type": "code",
   "execution_count": 2,
   "metadata": {},
   "outputs": [],
   "source": [
    "list1 = [1,2,3]\n",
    "list2 = []\n",
    "list2 = list1\n"
   ]
  },
  {
   "cell_type": "code",
   "execution_count": 45,
   "metadata": {},
   "outputs": [
    {
     "name": "stdout",
     "output_type": "stream",
     "text": [
      "Help on class dict in module builtins:\n",
      "\n",
      "class dict(object)\n",
      " |  dict() -> new empty dictionary\n",
      " |  dict(mapping) -> new dictionary initialized from a mapping object's\n",
      " |      (key, value) pairs\n",
      " |  dict(iterable) -> new dictionary initialized as if via:\n",
      " |      d = {}\n",
      " |      for k, v in iterable:\n",
      " |          d[k] = v\n",
      " |  dict(**kwargs) -> new dictionary initialized with the name=value pairs\n",
      " |      in the keyword argument list.  For example:  dict(one=1, two=2)\n",
      " |  \n",
      " |  Methods defined here:\n",
      " |  \n",
      " |  __contains__(self, key, /)\n",
      " |      True if the dictionary has the specified key, else False.\n",
      " |  \n",
      " |  __delitem__(self, key, /)\n",
      " |      Delete self[key].\n",
      " |  \n",
      " |  __eq__(self, value, /)\n",
      " |      Return self==value.\n",
      " |  \n",
      " |  __ge__(self, value, /)\n",
      " |      Return self>=value.\n",
      " |  \n",
      " |  __getattribute__(self, name, /)\n",
      " |      Return getattr(self, name).\n",
      " |  \n",
      " |  __getitem__(...)\n",
      " |      x.__getitem__(y) <==> x[y]\n",
      " |  \n",
      " |  __gt__(self, value, /)\n",
      " |      Return self>value.\n",
      " |  \n",
      " |  __init__(self, /, *args, **kwargs)\n",
      " |      Initialize self.  See help(type(self)) for accurate signature.\n",
      " |  \n",
      " |  __iter__(self, /)\n",
      " |      Implement iter(self).\n",
      " |  \n",
      " |  __le__(self, value, /)\n",
      " |      Return self<=value.\n",
      " |  \n",
      " |  __len__(self, /)\n",
      " |      Return len(self).\n",
      " |  \n",
      " |  __lt__(self, value, /)\n",
      " |      Return self<value.\n",
      " |  \n",
      " |  __ne__(self, value, /)\n",
      " |      Return self!=value.\n",
      " |  \n",
      " |  __repr__(self, /)\n",
      " |      Return repr(self).\n",
      " |  \n",
      " |  __setitem__(self, key, value, /)\n",
      " |      Set self[key] to value.\n",
      " |  \n",
      " |  __sizeof__(...)\n",
      " |      D.__sizeof__() -> size of D in memory, in bytes\n",
      " |  \n",
      " |  clear(...)\n",
      " |      D.clear() -> None.  Remove all items from D.\n",
      " |  \n",
      " |  copy(...)\n",
      " |      D.copy() -> a shallow copy of D\n",
      " |  \n",
      " |  get(self, key, default=None, /)\n",
      " |      Return the value for key if key is in the dictionary, else default.\n",
      " |  \n",
      " |  items(...)\n",
      " |      D.items() -> a set-like object providing a view on D's items\n",
      " |  \n",
      " |  keys(...)\n",
      " |      D.keys() -> a set-like object providing a view on D's keys\n",
      " |  \n",
      " |  pop(...)\n",
      " |      D.pop(k[,d]) -> v, remove specified key and return the corresponding value.\n",
      " |      If key is not found, d is returned if given, otherwise KeyError is raised\n",
      " |  \n",
      " |  popitem(...)\n",
      " |      D.popitem() -> (k, v), remove and return some (key, value) pair as a\n",
      " |      2-tuple; but raise KeyError if D is empty.\n",
      " |  \n",
      " |  setdefault(self, key, default=None, /)\n",
      " |      Insert key with a value of default if key is not in the dictionary.\n",
      " |      \n",
      " |      Return the value for key if key is in the dictionary, else default.\n",
      " |  \n",
      " |  update(...)\n",
      " |      D.update([E, ]**F) -> None.  Update D from dict/iterable E and F.\n",
      " |      If E is present and has a .keys() method, then does:  for k in E: D[k] = E[k]\n",
      " |      If E is present and lacks a .keys() method, then does:  for k, v in E: D[k] = v\n",
      " |      In either case, this is followed by: for k in F:  D[k] = F[k]\n",
      " |  \n",
      " |  values(...)\n",
      " |      D.values() -> an object providing a view on D's values\n",
      " |  \n",
      " |  ----------------------------------------------------------------------\n",
      " |  Class methods defined here:\n",
      " |  \n",
      " |  fromkeys(iterable, value=None, /) from builtins.type\n",
      " |      Create a new dictionary with keys from iterable and values set to value.\n",
      " |  \n",
      " |  ----------------------------------------------------------------------\n",
      " |  Static methods defined here:\n",
      " |  \n",
      " |  __new__(*args, **kwargs) from builtins.type\n",
      " |      Create and return a new object.  See help(type) for accurate signature.\n",
      " |  \n",
      " |  ----------------------------------------------------------------------\n",
      " |  Data and other attributes defined here:\n",
      " |  \n",
      " |  __hash__ = None\n",
      "\n"
     ]
    }
   ],
   "source": [
    " help(\"dict\")"
   ]
  },
  {
   "cell_type": "code",
   "execution_count": 40,
   "metadata": {},
   "outputs": [],
   "source": [
    "set1={1,2,3,4}\n",
    "set2={5,6,7,8}\n",
    "#set1.union(set2)\n",
    "#set1.intersection(set2)\n",
    "#set2.symmetric_difference_update(set1)\n",
    "#set2.symmetric_difference(set1)\n",
    "#set1.remove(3)\n",
    "#print (set1)\n",
    "#set1.pop()\n",
    "#print(set1)\n",
    "#set1.issuperset(set2)\n",
    "#set1.is subset(set2)\n",
    "#set1.isdisjoint(set2)\n",
    "#set2.discard(set1)\n",
    "#set1.difference_update(set2)\n",
    "#set1.difference(set2)\n",
    "#set1.copy(set2)\n",
    "#set2.clear\n",
    "#set1.add(10)"
   ]
  },
  {
   "cell_type": "markdown",
   "metadata": {},
   "source": [
    "## list functions"
   ]
  },
  {
   "cell_type": "code",
   "execution_count": 46,
   "metadata": {},
   "outputs": [
    {
     "name": "stdout",
     "output_type": "stream",
     "text": [
      "Absolute value of -20 is: 20\n"
     ]
    }
   ],
   "source": [
    "#integer = -20\n",
    "#print('Absolute value of -20 is:', abs(integer))\n"
   ]
  },
  {
   "cell_type": "code",
   "execution_count": null,
   "metadata": {},
   "outputs": [],
   "source": []
  }
 ],
 "metadata": {
  "kernelspec": {
   "display_name": "Python 3",
   "language": "python",
   "name": "python3"
  },
  "language_info": {
   "codemirror_mode": {
    "name": "ipython",
    "version": 3
   },
   "file_extension": ".py",
   "mimetype": "text/x-python",
   "name": "python",
   "nbconvert_exporter": "python",
   "pygments_lexer": "ipython3",
   "version": "3.7.3"
  }
 },
 "nbformat": 4,
 "nbformat_minor": 2
}
